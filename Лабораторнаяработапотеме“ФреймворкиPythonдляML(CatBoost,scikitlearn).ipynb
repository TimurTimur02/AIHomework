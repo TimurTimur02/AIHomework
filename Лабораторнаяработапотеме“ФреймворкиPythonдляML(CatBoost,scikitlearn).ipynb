{
  "nbformat": 4,
  "nbformat_minor": 0,
  "metadata": {
    "colab": {
      "provenance": [],
      "authorship_tag": "ABX9TyNMGzdoIVLCJ/cj3Y7oiLPA",
      "include_colab_link": true
    },
    "kernelspec": {
      "name": "python3",
      "display_name": "Python 3"
    },
    "language_info": {
      "name": "python"
    }
  },
  "cells": [
    {
      "cell_type": "markdown",
      "metadata": {
        "id": "view-in-github",
        "colab_type": "text"
      },
      "source": [
        "<a href=\"https://colab.research.google.com/github/TimurTimur02/AIHomework/blob/main/%D0%9B%D0%B0%D0%B1%D0%BE%D1%80%D0%B0%D1%82%D0%BE%D1%80%D0%BD%D0%B0%D1%8F%D1%80%D0%B0%D0%B1%D0%BE%D1%82%D0%B0%D0%BF%D0%BE%D1%82%D0%B5%D0%BC%D0%B5%E2%80%9C%D0%A4%D1%80%D0%B5%D0%B9%D0%BC%D0%B2%D0%BE%D1%80%D0%BA%D0%B8Python%D0%B4%D0%BB%D1%8FML(CatBoost%2Cscikitlearn).ipynb\" target=\"_parent\"><img src=\"https://colab.research.google.com/assets/colab-badge.svg\" alt=\"Open In Colab\"/></a>"
      ]
    },
    {
      "cell_type": "code",
      "execution_count": 67,
      "metadata": {
        "colab": {
          "base_uri": "https://localhost:8080/"
        },
        "id": "ow4MhtL9Dp_Y",
        "outputId": "d62e574b-9f43-41f0-f37a-ed92ceb51425"
      },
      "outputs": [
        {
          "output_type": "stream",
          "name": "stdout",
          "text": [
            "Прогноз оценки: Хорошо\n",
            "\n",
            "Точность модели на тестовой выборке с использованием критерия хи-квадрат: 0.99\n",
            "Лучшие 3 признака: Index(['Предмет\\n', 'Средний балл\\n', 'Время решения лабораторной\\n'], dtype='object')\n",
            "Размер обучающей выборки (X_train, y_train): (1600, 3) (1600,)\n",
            "Размер тестовой выборки (X_test, y_test): (400, 3) (400,)\n",
            "       Предмет  Средний балл Оценка за лабораторную  \\\n",
            "0   Математика            55      Удовлетворительно   \n",
            "1  Информатика            42                Отлично   \n",
            "2  Информатика            43                Отлично   \n",
            "3   Математика            26                Отлично   \n",
            "4     Биология            54                 Хорошо   \n",
            "\n",
            "   Время решения лабораторной  \n",
            "0                          55  \n",
            "1                          19  \n",
            "2                          39  \n",
            "3                          24  \n",
            "4                           5  \n"
          ]
        },
        {
          "output_type": "stream",
          "name": "stderr",
          "text": [
            "/usr/local/lib/python3.10/dist-packages/sklearn/base.py:439: UserWarning: X does not have valid feature names, but RandomForestClassifier was fitted with feature names\n",
            "  warnings.warn(\n"
          ]
        }
      ],
      "source": [
        "import pandas as pd\n",
        "import numpy as np\n",
        "import sklearn as sk\n",
        "import joblib\n",
        "from sklearn.ensemble import RandomForestClassifier\n",
        "from sklearn.metrics import accuracy_score\n",
        "from sklearn.model_selection import train_test_split\n",
        "from sklearn.preprocessing import LabelEncoder\n",
        "from sklearn.feature_selection import SelectKBest, chi2\n",
        "\n",
        "предметы = ['Математика', 'Русский язык', 'Информатика', 'Химия', 'Биология', 'История']\n",
        "\n",
        "количество_записей = 2000\n",
        "средний_балл = np.random.randint(0, 100, количество_записей)\n",
        "оценка_лабораторной = np.random.choice(['Удовлетворительно', 'Хорошо', 'Отлично'], количество_записей)\n",
        "время_решения_лабораторной = np.random.randint(0, 60, количество_записей)\n",
        "\n",
        "данные = pd.DataFrame({\n",
        "    'Предмет': np.random.choice(предметы, количество_записей),\n",
        "    'Средний балл': средний_балл,\n",
        "    'Оценка за лабораторную': оценка_лабораторной,\n",
        "    'Время решения лабораторной': время_решения_лабораторной\n",
        "})\n",
        "\n",
        "данные.to_csv('data.csv', index=False)\n",
        "\n",
        "данные = pd.read_csv('data.csv')\n",
        "\n",
        "X = данные.drop('Оценка за лабораторную', axis=1)\n",
        "y = данные['Оценка за лабораторную']\n",
        "\n",
        "label_encoder = LabelEncoder()\n",
        "X['Предмет'] = label_encoder.fit_transform(X['Предмет'])\n",
        "\n",
        "X_train, X_test, y_train, y_test = train_test_split(X, y, test_size=0.2, random_state=42)\n",
        "\n",
        "k_best_chi2 = SelectKBest(score_func=chi2, k=3)\n",
        "k_best_chi2.fit(X, y)\n",
        "\n",
        "selected_features_chi2 = X.columns[k_best_chi2.get_support()]\n",
        "\n",
        "best_features_model_chi2 = RandomForestClassifier(random_state=42)\n",
        "best_features_model_chi2.fit(X[selected_features_chi2], y)\n",
        "\n",
        "joblib.dump(best_features_model_chi2, 'best_features_model_chi2.onnx')\n",
        "\n",
        "loaded_model_chi2 = joblib.load('best_features_model_chi2.onnx')\n",
        "\n",
        "X_train, X_test, y_train, y_test = train_test_split(X[selected_features_chi2], y, test_size=0.2, random_state=42)\n",
        "\n",
        "y_pred_chi2 = loaded_model_chi2.predict(X_test)\n",
        "\n",
        "accuracy_chi2 = accuracy_score(y_test, y_pred_chi2)\n",
        "\n",
        "loaded_model = joblib.load('best_features_model_chi2.onnx')\n",
        "\n",
        "subject_scores = [55, 14, 72, 11, 22, 3]\n",
        "\n",
        "def predict_student_grade(subject_scores):\n",
        "    input_data = np.array(subject_scores).reshape(1, -1)\n",
        "    input_data_selected = input_data[:, :3]\n",
        "\n",
        "    predicted_grade = best_features_model_chi2.predict(input_data_selected)\n",
        "\n",
        "    return predicted_grade[0]\n",
        "\n",
        "predicted_grade = predict_student_grade(subject_scores)\n",
        "\n",
        "print(\"Прогноз оценки:\", predicted_grade + \"\\n\")\n",
        "\n",
        "print(\"Точность модели на тестовой выборке с использованием критерия хи-квадрат:\", accuracy_chi2)\n",
        "\n",
        "print(\"Лучшие 3 признака:\", selected_features_chi2 + \"\\n\")\n",
        "\n",
        "print(\"Размер обучающей выборки (X_train, y_train):\", X_train.shape, y_train.shape)\n",
        "\n",
        "print(\"Размер тестовой выборки (X_test, y_test):\", X_test.shape, y_test.shape)\n",
        "\n",
        "print(данные.head())\n"
      ]
    }
  ]
}